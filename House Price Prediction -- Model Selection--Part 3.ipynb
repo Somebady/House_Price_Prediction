{
 "cells": [
  {
   "cell_type": "code",
   "execution_count": 1,
   "metadata": {},
   "outputs": [],
   "source": [
    "import pandas as pd\n",
    "import numpy as np\n",
    "import seaborn as sns\n",
    "import matplotlib.pyplot as plt\n",
    "%matplotlib inline"
   ]
  },
  {
   "cell_type": "code",
   "execution_count": 57,
   "metadata": {},
   "outputs": [],
   "source": [
    "independent_feature=pd.read_csv('X_train.csv')\n",
    "testing_dataset=pd.read_csv('X_test.csv')\n",
    "dependent_feature=pd.read_csv('y_train.csv')"
   ]
  },
  {
   "cell_type": "code",
   "execution_count": 60,
   "metadata": {},
   "outputs": [
    {
     "data": {
      "text/plain": [
       "((1460, 21), (1460, 1), (1459, 21))"
      ]
     },
     "execution_count": 60,
     "metadata": {},
     "output_type": "execute_result"
    }
   ],
   "source": [
    "independent_feature.shape,dependent_feature.shape,testing_dataset.shape"
   ]
  },
  {
   "cell_type": "markdown",
   "metadata": {},
   "source": [
    "# Model Selection"
   ]
  },
  {
   "cell_type": "code",
   "execution_count": 46,
   "metadata": {},
   "outputs": [],
   "source": [
    "from sklearn.ensemble import RandomForestRegressor\n",
    "rf=RandomForestRegressor(n_estimators=10)"
   ]
  },
  {
   "cell_type": "code",
   "execution_count": 47,
   "metadata": {},
   "outputs": [],
   "source": [
    "from sklearn.model_selection import train_test_split"
   ]
  },
  {
   "cell_type": "code",
   "execution_count": 61,
   "metadata": {},
   "outputs": [],
   "source": [
    "X_train, X_test, y_train, y_test=train_test_split(independent_feature,dependent_feature,test_size=0.3,random_state=20)"
   ]
  },
  {
   "cell_type": "code",
   "execution_count": 62,
   "metadata": {},
   "outputs": [
    {
     "data": {
      "text/plain": [
       "((1022, 21), (1022, 1), (438, 21), (438, 1))"
      ]
     },
     "execution_count": 62,
     "metadata": {},
     "output_type": "execute_result"
    }
   ],
   "source": [
    "X_train.shape,y_train.shape,X_test.shape,y_test.shape"
   ]
  },
  {
   "cell_type": "code",
   "execution_count": 66,
   "metadata": {},
   "outputs": [],
   "source": [
    "#Pipelines Creation"
   ]
  },
  {
   "cell_type": "code",
   "execution_count": 102,
   "metadata": {},
   "outputs": [],
   "source": [
    "from sklearn.pipeline import Pipeline\n",
    "from sklearn.decomposition import PCA\n",
    "from sklearn.preprocessing import StandardScaler\n",
    "from sklearn.tree import DecisionTreeRegressor\n",
    "from sklearn.linear_model import LinearRegression\n",
    "from sklearn.neighbors import KNeighborsRegressor"
   ]
  },
  {
   "cell_type": "code",
   "execution_count": 103,
   "metadata": {},
   "outputs": [],
   "source": [
    "randomForest_pipe=Pipeline([('Scaler1',StandardScaler()),\n",
    "                           ('PCA1',PCA(n_components=2)),\n",
    "                           ('rf_Classifier',RandomForestRegressor())])"
   ]
  },
  {
   "cell_type": "code",
   "execution_count": 104,
   "metadata": {},
   "outputs": [],
   "source": [
    "decision_tree_pipe=Pipeline([('Scaler2',StandardScaler()),\n",
    "                           ('PCA2',PCA(n_components=2)),\n",
    "                           ('dt_Classifier',DecisionTreeRegressor())])"
   ]
  },
  {
   "cell_type": "code",
   "execution_count": 105,
   "metadata": {},
   "outputs": [],
   "source": [
    "linear_pipe=Pipeline([('Scaler3',StandardScaler()),\n",
    "                      ('PCA3',PCA(n_components=2)),\n",
    "                       ('l_classifier',LinearRegression())])"
   ]
  },
  {
   "cell_type": "code",
   "execution_count": 106,
   "metadata": {},
   "outputs": [],
   "source": [
    "knn_pipe=Pipeline([('Scaler4',StandardScaler()),\n",
    "                   ('PCA4',PCA(n_components=2)),\n",
    "                   ('knn_classifier',KNeighborsRegressor())\n",
    "    \n",
    "])"
   ]
  },
  {
   "cell_type": "code",
   "execution_count": 107,
   "metadata": {},
   "outputs": [],
   "source": [
    "Pipelines=[randomForest_pipe,decision_tree_pipe,linear_pipe,knn_pipe]"
   ]
  },
  {
   "cell_type": "code",
   "execution_count": 108,
   "metadata": {},
   "outputs": [
    {
     "name": "stderr",
     "output_type": "stream",
     "text": [
      "C:\\Users\\akshason\\AppData\\Roaming\\Python\\Python38\\site-packages\\sklearn\\pipeline.py:346: DataConversionWarning: A column-vector y was passed when a 1d array was expected. Please change the shape of y to (n_samples,), for example using ravel().\n",
      "  self._final_estimator.fit(Xt, y, **fit_params_last_step)\n"
     ]
    }
   ],
   "source": [
    "for pipe in Pipelines:\n",
    "    pipe.fit(X_train,y_train)"
   ]
  },
  {
   "cell_type": "code",
   "execution_count": 109,
   "metadata": {},
   "outputs": [],
   "source": [
    "pipe_dict={0:'RandomForestRegressor',1:'DecissionTreeRegressor',2:'LinearRegression',3:'KNNClassifier'}"
   ]
  },
  {
   "cell_type": "code",
   "execution_count": 110,
   "metadata": {},
   "outputs": [
    {
     "name": "stdout",
     "output_type": "stream",
     "text": [
      "RandomForestRegressor has 0.7664762158640515 % Accuracy\n",
      "DecissionTreeRegressor has 0.6252693014590973 % Accuracy\n",
      "LinearRegression has 0.7825848994595652 % Accuracy\n",
      "KNNClassifier has 0.7823771798914596 % Accuracy\n"
     ]
    }
   ],
   "source": [
    "for i,model in enumerate(Pipelines):\n",
    "    print(f'{pipe_dict[i]} has {model.score(X_test,y_test)} % Accuracy')"
   ]
  },
  {
   "cell_type": "code",
   "execution_count": 117,
   "metadata": {},
   "outputs": [
    {
     "name": "stdout",
     "output_type": "stream",
     "text": [
      "Perfact Model for this dataset is LinearRegression with highest accuracy among all i.e 0.7825848994595652\n"
     ]
    }
   ],
   "source": [
    "best_accuracy=0\n",
    "best_model=''\n",
    "for i,model in enumerate(Pipelines):\n",
    "    score=model.score(X_test,y_test)\n",
    "    if score>best_accuracy:\n",
    "        best_accuracy=score\n",
    "        best_model=pipe_dict[i]\n",
    "print(f'Perfact Model for this dataset is {best_model} with highest accuracy among all i.e {best_accuracy}')"
   ]
  },
  {
   "cell_type": "markdown",
   "metadata": {},
   "source": [
    "# Hyper Parameter Tunning with the help of GridSearchCV in Pipelines"
   ]
  },
  {
   "cell_type": "code",
   "execution_count": 129,
   "metadata": {},
   "outputs": [],
   "source": [
    "pipe=Pipeline([('Regressor',RandomForestRegressor())])"
   ]
  },
  {
   "cell_type": "code",
   "execution_count": 130,
   "metadata": {},
   "outputs": [],
   "source": [
    "from sklearn.model_selection import GridSearchCV"
   ]
  },
  {
   "cell_type": "code",
   "execution_count": 144,
   "metadata": {},
   "outputs": [],
   "source": [
    "grid_params=[\n",
    "            {'Regressor':[RandomForestRegressor()],\n",
    "             'Regressor__n_estimators':np.linspace(10,1000,10),\n",
    "             'Regressor__max_depth':[2,4,6,8,10,None],\n",
    "             'Regressor__min_samples_split':[1,2,3,4,5],\n",
    "             'Regressor__min_samples_leaf':[1,2,3,4,5],\n",
    "             'Regressor__max_features':[\"auto\", \"sqrt\", \"log2\"],\n",
    "             'Regressor__criterion':['mse','mae'],\n",
    "             'Regressor__max_samples':[2,4,6,8,10]\n",
    "            },\n",
    "            {'Regressor':[DecisionTreeRegressor()],\n",
    "             'Regressor__splitter':[\"best\", \"random\"],\n",
    "             'Regressor__max_depth':[2,4,6,8,10,None],\n",
    "             'Regressor__min_samples_split':[1,2,3,4,5],\n",
    "             'Regressor__min_samples_leaf':[1,2,3,4,5],\n",
    "             'Regressor__max_features':[\"auto\", \"sqrt\", \"log2\"],\n",
    "             'Regressor__criterion':[\"mse\", \"friedman_mse\", \"mae\", \"poisson\"],\n",
    "            },\n",
    "    \n",
    "            {'Regressor':[LinearRegression()], \n",
    "             'Regressor__fit_intercept':[\"True\", \"False\"],\n",
    "             'Regressor__normalize':[\"True\", \"False\"],\n",
    "             'Regressor__copy_X':[\"True\", \"False\"],\n",
    "             'Regressor__positive':[\"True\", \"False\"]\n",
    "            },\n",
    "            \n",
    "            {'Regressor':[KNeighborsRegressor()], \n",
    "             'Regressor__n_neighbors':np.linspace(10,400,10),\n",
    "             'Regressor__weights':['uniform', 'distance'],\n",
    "             'Regressor__algorithm':['auto', 'ball_tree', 'kd_tree', 'brute'],\n",
    "             'Regressor__n_jobs':[-1,None]\n",
    "            \n",
    "            }\n",
    "]"
   ]
  },
  {
   "cell_type": "code",
   "execution_count": 145,
   "metadata": {},
   "outputs": [
    {
     "name": "stderr",
     "output_type": "stream",
     "text": [
      "C:\\Users\\akshason\\AppData\\Roaming\\Python\\Python38\\site-packages\\sklearn\\model_selection\\_search.py:918: UserWarning: One or more of the test scores are non-finite: [nan nan nan ... nan nan nan]\n",
      "  warnings.warn(\n"
     ]
    }
   ],
   "source": [
    "gridsearch=GridSearchCV(pipe,grid_params,cv=5,verbose=0,n_jobs=-1)\n",
    "best_model=gridsearch.fit(X_train,y_train)"
   ]
  },
  {
   "cell_type": "code",
   "execution_count": 146,
   "metadata": {},
   "outputs": [
    {
     "data": {
      "text/plain": [
       "Pipeline(steps=[('Regressor',\n",
       "                 LinearRegression(copy_X='True', fit_intercept='True',\n",
       "                                  normalize='True', positive='True'))])"
      ]
     },
     "execution_count": 146,
     "metadata": {},
     "output_type": "execute_result"
    }
   ],
   "source": [
    "best_model.best_estimator_"
   ]
  },
  {
   "cell_type": "code",
   "execution_count": 147,
   "metadata": {},
   "outputs": [
    {
     "data": {
      "text/plain": [
       "0.8432350375526405"
      ]
     },
     "execution_count": 147,
     "metadata": {},
     "output_type": "execute_result"
    }
   ],
   "source": [
    "best_model.score(X_test,y_test)"
   ]
  },
  {
   "cell_type": "code",
   "execution_count": 142,
   "metadata": {},
   "outputs": [],
   "source": [
    "#After applying HyperParameter Tunning, we are now getting 84.32% Accuracy with LinearRegressor, So For this dataset, LinearRegressor Perfrom very well."
   ]
  },
  {
   "cell_type": "code",
   "execution_count": null,
   "metadata": {},
   "outputs": [],
   "source": [
    "# ----------------------The End-------------------------"
   ]
  }
 ],
 "metadata": {
  "kernelspec": {
   "display_name": "Python 3",
   "language": "python",
   "name": "python3"
  },
  "language_info": {
   "codemirror_mode": {
    "name": "ipython",
    "version": 3
   },
   "file_extension": ".py",
   "mimetype": "text/x-python",
   "name": "python",
   "nbconvert_exporter": "python",
   "pygments_lexer": "ipython3",
   "version": "3.8.0"
  }
 },
 "nbformat": 4,
 "nbformat_minor": 4
}
